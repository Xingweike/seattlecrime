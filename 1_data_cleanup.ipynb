{
 "cells": [
  {
   "cell_type": "markdown",
   "id": "a5769c03",
   "metadata": {},
   "source": [
    "# This notebook takes police call data for the city of Seattle and Seattle arcgis data and transforms them into data used in the PowerBI visualization"
   ]
  },
  {
   "cell_type": "code",
   "execution_count": 1,
   "id": "734a3c38",
   "metadata": {},
   "outputs": [],
   "source": [
    "import pandas as pd\n",
    "import numpy as np\n",
    "import geopandas as gpd\n",
    "from shapely.geometry import Point"
   ]
  },
  {
   "cell_type": "markdown",
   "id": "3524b155",
   "metadata": {},
   "source": [
    "## Import Call data"
   ]
  },
  {
   "cell_type": "code",
   "execution_count": 2,
   "id": "a1d40b45",
   "metadata": {},
   "outputs": [],
   "source": [
    "# Call Data is from https://data.seattle.gov/Public-Safety/Call-Data/33kz-ixgy/about_data\n",
    "# Depending on when you download the data the numbers you get might be slightly different, as\n",
    "# the call data is updated on a monthly basis\n",
    "\n",
    "df = pd.read_csv('Call_Data_20241027.csv')"
   ]
  },
  {
   "cell_type": "code",
   "execution_count": 3,
   "id": "ab27fa0b",
   "metadata": {},
   "outputs": [
    {
     "data": {
      "text/plain": [
       "(5900962, 13)"
      ]
     },
     "execution_count": 3,
     "metadata": {},
     "output_type": "execute_result"
    }
   ],
   "source": [
    "df.shape"
   ]
  },
  {
   "cell_type": "code",
   "execution_count": 4,
   "id": "6504d8c3",
   "metadata": {},
   "outputs": [
    {
     "data": {
      "text/plain": [
       "array(['CAD Event Number', 'Event Clearance Description', 'Call Type',\n",
       "       'Priority', 'Initial Call Type', 'Final Call Type',\n",
       "       'Original Time Queued', 'Arrived Time', 'Precinct', 'Sector',\n",
       "       'Beat', 'Blurred_Longitude', 'Blurred_Latitude'], dtype=object)"
      ]
     },
     "execution_count": 4,
     "metadata": {},
     "output_type": "execute_result"
    }
   ],
   "source": [
    "df.columns.values"
   ]
  },
  {
   "cell_type": "code",
   "execution_count": 5,
   "id": "6b0e92a4",
   "metadata": {},
   "outputs": [
    {
     "name": "stderr",
     "output_type": "stream",
     "text": [
      "/var/folders/54/yjjlb4bs4ljb_zp14f_fx9x40000gn/T/ipykernel_5050/2524324670.py:1: UserWarning: Could not infer format, so each element will be parsed individually, falling back to `dateutil`. To ensure parsing is consistent and as-expected, please specify a format.\n",
      "  df['call_time'] = pd.to_datetime(df['Original Time Queued'])\n",
      "/var/folders/54/yjjlb4bs4ljb_zp14f_fx9x40000gn/T/ipykernel_5050/2524324670.py:2: UserWarning: Could not infer format, so each element will be parsed individually, falling back to `dateutil`. To ensure parsing is consistent and as-expected, please specify a format.\n",
      "  df['arrived_time'] = pd.to_datetime(df['Arrived Time'])\n"
     ]
    }
   ],
   "source": [
    "df['call_time'] = pd.to_datetime(df['Original Time Queued'])\n",
    "df['arrived_time'] = pd.to_datetime(df['Arrived Time'])\n",
    "\n",
    "df['call_time_day'] = df['call_time'].dt.day\n",
    "df['call_time_month'] = df['call_time'].dt.month\n",
    "df['call_time_year'] = df['call_time'].dt.year\n",
    "\n",
    "df['arrived_time_day'] = df['arrived_time'].dt.day\n",
    "df['arrived_time_month'] = df['arrived_time'].dt.month\n",
    "df['arrived_time_year'] = df['arrived_time'].dt.year\n"
   ]
  },
  {
   "cell_type": "code",
   "execution_count": 9,
   "id": "76f4e721",
   "metadata": {},
   "outputs": [],
   "source": [
    "data = df[['Blurred_Longitude', 'Blurred_Latitude']]\n",
    "data = data.rename({\n",
    "    'Blurred_Longitude': 'longitude',\n",
    "    'Blurred_Latitude': 'latitude'\n",
    "}, axis=1)\n"
   ]
  },
  {
   "cell_type": "markdown",
   "id": "d83eac04",
   "metadata": {},
   "source": [
    "## Import ArcGIS data"
   ]
  },
  {
   "cell_type": "code",
   "execution_count": 10,
   "id": "50e06eb2",
   "metadata": {},
   "outputs": [],
   "source": [
    "# Data is from https://data-seattlecitygis.opendata.arcgis.com/datasets/SeattleCityGIS::community-reporting-areas-3/explore\n",
    "# select the geojson file\n",
    "neighborhoods_gdf = gpd.read_file('CITYPLAN_CRA_-8527542012581552321.geojson')\n",
    "\n",
    "# Load your dataset with latitude and longitude information\n",
    "data = data\n",
    "\n",
    "# Convert the latitude and longitude into a GeoDataFrame\n",
    "geometry = [Point(xy) for xy in zip(data['longitude'], data['latitude'])]\n",
    "geo_data = gpd.GeoDataFrame(data, geometry=geometry)\n",
    "geo_data.crs = 'EPSG:4326'  # Set coordinate reference system to WGS84\n",
    "neighborhoods_gdf = neighborhoods_gdf.to_crs('EPSG:4326')\n"
   ]
  },
  {
   "cell_type": "code",
   "execution_count": 11,
   "id": "4565b6f3",
   "metadata": {},
   "outputs": [
    {
     "name": "stderr",
     "output_type": "stream",
     "text": [
      "/Users/tomliu/miniconda3/lib/python3.8/site-packages/IPython/core/interactiveshell.py:3448: FutureWarning: The `op` parameter is deprecated and will be removed in a future release. Please use the `predicate` parameter instead.\n",
      "  if await self.run_code(code, result, async_=asy):\n"
     ]
    },
    {
     "data": {
      "text/html": [
       "<div>\n",
       "<style scoped>\n",
       "    .dataframe tbody tr th:only-of-type {\n",
       "        vertical-align: middle;\n",
       "    }\n",
       "\n",
       "    .dataframe tbody tr th {\n",
       "        vertical-align: top;\n",
       "    }\n",
       "\n",
       "    .dataframe thead th {\n",
       "        text-align: right;\n",
       "    }\n",
       "</style>\n",
       "<table border=\"1\" class=\"dataframe\">\n",
       "  <thead>\n",
       "    <tr style=\"text-align: right;\">\n",
       "      <th></th>\n",
       "      <th>longitude</th>\n",
       "      <th>latitude</th>\n",
       "      <th>geometry</th>\n",
       "      <th>index_right</th>\n",
       "      <th>OBJECTID</th>\n",
       "      <th>CRA_NO</th>\n",
       "      <th>CRA_GRP</th>\n",
       "      <th>GEN_ALIAS</th>\n",
       "      <th>DETL_NAMES</th>\n",
       "      <th>NEIGHDIST</th>\n",
       "      <th>AREA_ACRES</th>\n",
       "      <th>AREA_SQMI</th>\n",
       "      <th>SE_ANNO_CAD_DATA</th>\n",
       "      <th>DISPLAY_NAME</th>\n",
       "      <th>WATER</th>\n",
       "    </tr>\n",
       "  </thead>\n",
       "  <tbody>\n",
       "    <tr>\n",
       "      <th>0</th>\n",
       "      <td>-122.366238</td>\n",
       "      <td>47.643115</td>\n",
       "      <td>POINT (-122.36624 47.64311)</td>\n",
       "      <td>83.0</td>\n",
       "      <td>321.0</td>\n",
       "      <td>12.3</td>\n",
       "      <td>12.0</td>\n",
       "      <td>Queen Anne</td>\n",
       "      <td>Queen Anne, Lower Queen Anne, Uptown, Seattle Center, Westlake</td>\n",
       "      <td>Magnolia/Queen Anne</td>\n",
       "      <td>1882.098639</td>\n",
       "      <td>2.940779</td>\n",
       "      <td></td>\n",
       "      <td>CRA - Queen Anne</td>\n",
       "      <td>0.0</td>\n",
       "    </tr>\n",
       "    <tr>\n",
       "      <th>1</th>\n",
       "      <td>0.000000</td>\n",
       "      <td>0.000000</td>\n",
       "      <td>POINT (0.00000 0.00000)</td>\n",
       "      <td>NaN</td>\n",
       "      <td>NaN</td>\n",
       "      <td>NaN</td>\n",
       "      <td>NaN</td>\n",
       "      <td>NaN</td>\n",
       "      <td>NaN</td>\n",
       "      <td>NaN</td>\n",
       "      <td>NaN</td>\n",
       "      <td>NaN</td>\n",
       "      <td>NaN</td>\n",
       "      <td>NaN</td>\n",
       "      <td>NaN</td>\n",
       "    </tr>\n",
       "    <tr>\n",
       "      <th>2</th>\n",
       "      <td>-122.333291</td>\n",
       "      <td>47.706846</td>\n",
       "      <td>POINT (-122.33329 47.70685)</td>\n",
       "      <td>50.0</td>\n",
       "      <td>51.0</td>\n",
       "      <td>8.1</td>\n",
       "      <td>8.0</td>\n",
       "      <td>Northgate/Maple Leaf</td>\n",
       "      <td>Maple Leaf, Northgate, Pinehurst</td>\n",
       "      <td>North</td>\n",
       "      <td>1143.757068</td>\n",
       "      <td>1.787120</td>\n",
       "      <td></td>\n",
       "      <td>CRA - Northgate-Maple Leaf</td>\n",
       "      <td>0.0</td>\n",
       "    </tr>\n",
       "    <tr>\n",
       "      <th>3</th>\n",
       "      <td>-122.378878</td>\n",
       "      <td>47.649401</td>\n",
       "      <td>POINT (-122.37888 47.64940)</td>\n",
       "      <td>74.0</td>\n",
       "      <td>76.0</td>\n",
       "      <td>12.2</td>\n",
       "      <td>12.0</td>\n",
       "      <td>Interbay</td>\n",
       "      <td>Interbay</td>\n",
       "      <td>Magnolia/Queen Anne</td>\n",
       "      <td>1232.751616</td>\n",
       "      <td>1.926174</td>\n",
       "      <td></td>\n",
       "      <td>CRA - Interbay</td>\n",
       "      <td>0.0</td>\n",
       "    </tr>\n",
       "    <tr>\n",
       "      <th>4</th>\n",
       "      <td>-122.376383</td>\n",
       "      <td>47.648473</td>\n",
       "      <td>POINT (-122.37638 47.64847)</td>\n",
       "      <td>74.0</td>\n",
       "      <td>76.0</td>\n",
       "      <td>12.2</td>\n",
       "      <td>12.0</td>\n",
       "      <td>Interbay</td>\n",
       "      <td>Interbay</td>\n",
       "      <td>Magnolia/Queen Anne</td>\n",
       "      <td>1232.751616</td>\n",
       "      <td>1.926174</td>\n",
       "      <td></td>\n",
       "      <td>CRA - Interbay</td>\n",
       "      <td>0.0</td>\n",
       "    </tr>\n",
       "    <tr>\n",
       "      <th>...</th>\n",
       "      <td>...</td>\n",
       "      <td>...</td>\n",
       "      <td>...</td>\n",
       "      <td>...</td>\n",
       "      <td>...</td>\n",
       "      <td>...</td>\n",
       "      <td>...</td>\n",
       "      <td>...</td>\n",
       "      <td>...</td>\n",
       "      <td>...</td>\n",
       "      <td>...</td>\n",
       "      <td>...</td>\n",
       "      <td>...</td>\n",
       "      <td>...</td>\n",
       "      <td>...</td>\n",
       "    </tr>\n",
       "    <tr>\n",
       "      <th>5900957</th>\n",
       "      <td>-122.328165</td>\n",
       "      <td>47.616002</td>\n",
       "      <td>POINT (-122.32817 47.61600)</td>\n",
       "      <td>36.0</td>\n",
       "      <td>37.0</td>\n",
       "      <td>6.2</td>\n",
       "      <td>6.0</td>\n",
       "      <td>Capitol Hill</td>\n",
       "      <td>Capitol Hill, Pike/Pine, Broadway, First Hill</td>\n",
       "      <td>East</td>\n",
       "      <td>433.172611</td>\n",
       "      <td>0.676832</td>\n",
       "      <td></td>\n",
       "      <td>CRA - Capitol Hill</td>\n",
       "      <td>0.0</td>\n",
       "    </tr>\n",
       "    <tr>\n",
       "      <th>5900958</th>\n",
       "      <td>-122.317526</td>\n",
       "      <td>47.616427</td>\n",
       "      <td>POINT (-122.31753 47.61643)</td>\n",
       "      <td>36.0</td>\n",
       "      <td>37.0</td>\n",
       "      <td>6.2</td>\n",
       "      <td>6.0</td>\n",
       "      <td>Capitol Hill</td>\n",
       "      <td>Capitol Hill, Pike/Pine, Broadway, First Hill</td>\n",
       "      <td>East</td>\n",
       "      <td>433.172611</td>\n",
       "      <td>0.676832</td>\n",
       "      <td></td>\n",
       "      <td>CRA - Capitol Hill</td>\n",
       "      <td>0.0</td>\n",
       "    </tr>\n",
       "    <tr>\n",
       "      <th>5900959</th>\n",
       "      <td>-122.325552</td>\n",
       "      <td>47.617041</td>\n",
       "      <td>POINT (-122.32555 47.61704)</td>\n",
       "      <td>36.0</td>\n",
       "      <td>37.0</td>\n",
       "      <td>6.2</td>\n",
       "      <td>6.0</td>\n",
       "      <td>Capitol Hill</td>\n",
       "      <td>Capitol Hill, Pike/Pine, Broadway, First Hill</td>\n",
       "      <td>East</td>\n",
       "      <td>433.172611</td>\n",
       "      <td>0.676832</td>\n",
       "      <td></td>\n",
       "      <td>CRA - Capitol Hill</td>\n",
       "      <td>0.0</td>\n",
       "    </tr>\n",
       "    <tr>\n",
       "      <th>5900960</th>\n",
       "      <td>47.623699</td>\n",
       "      <td>-122.320933</td>\n",
       "      <td>POINT (47.62370 -122.32093)</td>\n",
       "      <td>NaN</td>\n",
       "      <td>NaN</td>\n",
       "      <td>NaN</td>\n",
       "      <td>NaN</td>\n",
       "      <td>NaN</td>\n",
       "      <td>NaN</td>\n",
       "      <td>NaN</td>\n",
       "      <td>NaN</td>\n",
       "      <td>NaN</td>\n",
       "      <td>NaN</td>\n",
       "      <td>NaN</td>\n",
       "      <td>NaN</td>\n",
       "    </tr>\n",
       "    <tr>\n",
       "      <th>5900961</th>\n",
       "      <td>-122.319476</td>\n",
       "      <td>47.602201</td>\n",
       "      <td>POINT (-122.31948 47.60220)</td>\n",
       "      <td>35.0</td>\n",
       "      <td>36.0</td>\n",
       "      <td>6.1</td>\n",
       "      <td>6.0</td>\n",
       "      <td>First Hill</td>\n",
       "      <td>First Hill, Yesler Terrace, Squire Park</td>\n",
       "      <td>East</td>\n",
       "      <td>438.861071</td>\n",
       "      <td>0.685720</td>\n",
       "      <td></td>\n",
       "      <td>CRA - First Hill</td>\n",
       "      <td>0.0</td>\n",
       "    </tr>\n",
       "  </tbody>\n",
       "</table>\n",
       "<p>5900962 rows × 15 columns</p>\n",
       "</div>"
      ],
      "text/plain": [
       "          longitude    latitude                     geometry  index_right  \\\n",
       "0       -122.366238   47.643115  POINT (-122.36624 47.64311)         83.0   \n",
       "1          0.000000    0.000000      POINT (0.00000 0.00000)          NaN   \n",
       "2       -122.333291   47.706846  POINT (-122.33329 47.70685)         50.0   \n",
       "3       -122.378878   47.649401  POINT (-122.37888 47.64940)         74.0   \n",
       "4       -122.376383   47.648473  POINT (-122.37638 47.64847)         74.0   \n",
       "...             ...         ...                          ...          ...   \n",
       "5900957 -122.328165   47.616002  POINT (-122.32817 47.61600)         36.0   \n",
       "5900958 -122.317526   47.616427  POINT (-122.31753 47.61643)         36.0   \n",
       "5900959 -122.325552   47.617041  POINT (-122.32555 47.61704)         36.0   \n",
       "5900960   47.623699 -122.320933  POINT (47.62370 -122.32093)          NaN   \n",
       "5900961 -122.319476   47.602201  POINT (-122.31948 47.60220)         35.0   \n",
       "\n",
       "         OBJECTID  CRA_NO  CRA_GRP             GEN_ALIAS  \\\n",
       "0           321.0    12.3     12.0            Queen Anne   \n",
       "1             NaN     NaN      NaN                   NaN   \n",
       "2            51.0     8.1      8.0  Northgate/Maple Leaf   \n",
       "3            76.0    12.2     12.0              Interbay   \n",
       "4            76.0    12.2     12.0              Interbay   \n",
       "...           ...     ...      ...                   ...   \n",
       "5900957      37.0     6.2      6.0          Capitol Hill   \n",
       "5900958      37.0     6.2      6.0          Capitol Hill   \n",
       "5900959      37.0     6.2      6.0          Capitol Hill   \n",
       "5900960       NaN     NaN      NaN                   NaN   \n",
       "5900961      36.0     6.1      6.0            First Hill   \n",
       "\n",
       "                                                             DETL_NAMES  \\\n",
       "0        Queen Anne, Lower Queen Anne, Uptown, Seattle Center, Westlake   \n",
       "1                                                                   NaN   \n",
       "2                                      Maple Leaf, Northgate, Pinehurst   \n",
       "3                                                              Interbay   \n",
       "4                                                              Interbay   \n",
       "...                                                                 ...   \n",
       "5900957                   Capitol Hill, Pike/Pine, Broadway, First Hill   \n",
       "5900958                   Capitol Hill, Pike/Pine, Broadway, First Hill   \n",
       "5900959                   Capitol Hill, Pike/Pine, Broadway, First Hill   \n",
       "5900960                                                             NaN   \n",
       "5900961                         First Hill, Yesler Terrace, Squire Park   \n",
       "\n",
       "                   NEIGHDIST   AREA_ACRES  AREA_SQMI SE_ANNO_CAD_DATA  \\\n",
       "0        Magnolia/Queen Anne  1882.098639   2.940779                    \n",
       "1                        NaN          NaN        NaN              NaN   \n",
       "2                      North  1143.757068   1.787120                    \n",
       "3        Magnolia/Queen Anne  1232.751616   1.926174                    \n",
       "4        Magnolia/Queen Anne  1232.751616   1.926174                    \n",
       "...                      ...          ...        ...              ...   \n",
       "5900957                 East   433.172611   0.676832                    \n",
       "5900958                 East   433.172611   0.676832                    \n",
       "5900959                 East   433.172611   0.676832                    \n",
       "5900960                  NaN          NaN        NaN              NaN   \n",
       "5900961                 East   438.861071   0.685720                    \n",
       "\n",
       "                       DISPLAY_NAME  WATER  \n",
       "0                  CRA - Queen Anne    0.0  \n",
       "1                               NaN    NaN  \n",
       "2        CRA - Northgate-Maple Leaf    0.0  \n",
       "3                    CRA - Interbay    0.0  \n",
       "4                    CRA - Interbay    0.0  \n",
       "...                             ...    ...  \n",
       "5900957          CRA - Capitol Hill    0.0  \n",
       "5900958          CRA - Capitol Hill    0.0  \n",
       "5900959          CRA - Capitol Hill    0.0  \n",
       "5900960                         NaN    NaN  \n",
       "5900961            CRA - First Hill    0.0  \n",
       "\n",
       "[5900962 rows x 15 columns]"
      ]
     },
     "execution_count": 11,
     "metadata": {},
     "output_type": "execute_result"
    }
   ],
   "source": [
    "# Perform a spatial join to associate latitude/longitude points with neighborhoods\n",
    "geo_data_with_neighborhoods = gpd.sjoin(geo_data, neighborhoods_gdf, how='left', op='intersects')\n",
    "\n",
    "# Display the results\n",
    "geo_data_with_neighborhoods.head()"
   ]
  },
  {
   "cell_type": "markdown",
   "id": "9dae447a",
   "metadata": {},
   "source": [
    "## Data Cleaning"
   ]
  },
  {
   "cell_type": "code",
   "execution_count": 14,
   "id": "b9e42a54",
   "metadata": {},
   "outputs": [
    {
     "data": {
      "text/plain": [
       "(5900250, 36)"
      ]
     },
     "execution_count": 14,
     "metadata": {},
     "output_type": "execute_result"
    }
   ],
   "source": [
    "# Filter out Nan Piorities\n",
    "final_df = final_df.loc[final_df.Priority.notna()]\n",
    "final_df.shape"
   ]
  },
  {
   "cell_type": "code",
   "execution_count": 15,
   "id": "f41362a7",
   "metadata": {},
   "outputs": [
    {
     "data": {
      "text/plain": [
       "(5848263, 36)"
      ]
     },
     "execution_count": 15,
     "metadata": {},
     "output_type": "execute_result"
    }
   ],
   "source": [
    "# Filter out Nan and OOJ Sectors\n",
    "final_df = final_df.loc[df.Sector.notna()]\n",
    "final_df = final_df.loc[final_df.Sector != 'OOJ']\n",
    "final_df.shape"
   ]
  },
  {
   "cell_type": "code",
   "execution_count": 16,
   "id": "6ec4b303",
   "metadata": {},
   "outputs": [
    {
     "data": {
      "text/plain": [
       "(5848240, 36)"
      ]
     },
     "execution_count": 16,
     "metadata": {},
     "output_type": "execute_result"
    }
   ],
   "source": [
    "# Filter out unknown Precincts\n",
    "final_df = final_df.loc[final_df.Precinct != 'UNKNOWN']\n",
    "final_df.shape"
   ]
  },
  {
   "cell_type": "code",
   "execution_count": 17,
   "id": "5c3f5241",
   "metadata": {},
   "outputs": [
    {
     "name": "stdout",
     "output_type": "stream",
     "text": [
      "long_ok\n",
      "True    5848240\n",
      "Name: count, dtype: int64\n"
     ]
    }
   ],
   "source": [
    "# Find Points that have Lat and Long reversed\n",
    "# about ~14k discovered Nov 2024\n",
    "\n",
    "final_df['long_ok'] = (final_df.longitude.between(-122.460027, -122.218169)) | (final_df.longitude == 0) | (final_df.longitude == -1)\n",
    "final_df['lat_ok'] = (final_df.latitude.between(47.314028, 47.874756)) | (final_df.latitude == 0) | (final_df.longitude == -1)\n",
    " \n",
    "swap_condition = (final_df.long_ok == False) & (final_df.lat_ok == False)\n",
    "final_df.loc[swap_condition,['longitude','latitude']] = final_df.loc[swap_condition,['latitude','longitude']].values\n",
    "\n",
    "final_df['long_ok'] = (final_df.longitude.between(-122.460027, -122.218169)) | (final_df.longitude == 0) | (final_df.longitude == -1)\n",
    "final_df['lat_ok'] = (final_df.latitude.between(47.314028, 47.874756)) | (final_df.latitude == 0) | (final_df.longitude == -1)\n",
    "\n",
    "print(final_df.long_ok.value_counts(dropna=False))\n",
    "\n",
    "final_df.drop(['long_ok', 'lat_ok'], axis=1, inplace=True)"
   ]
  },
  {
   "cell_type": "code",
   "execution_count": 18,
   "id": "d819c71d",
   "metadata": {},
   "outputs": [],
   "source": [
    "final_df.loc[final_df.longitude == -1, 'longitude'] = 0\n",
    "final_df.loc[final_df.longitude == -1, 'latitude'] = 0"
   ]
  },
  {
   "cell_type": "code",
   "execution_count": 22,
   "id": "6b90d09f",
   "metadata": {},
   "outputs": [],
   "source": [
    "# Save progress to avoid running above multiple times\n",
    "final_df.to_csv('20241116-Seattle-neighborhoods.csv')\n",
    "df = pd.read_csv('20241116-Seattle-neighborhoods.csv')"
   ]
  },
  {
   "cell_type": "markdown",
   "id": "00f55ab5",
   "metadata": {},
   "source": [
    "## Map Police Beats to Neighborhoods"
   ]
  },
  {
   "cell_type": "code",
   "execution_count": 24,
   "id": "f1bd2702",
   "metadata": {},
   "outputs": [
    {
     "name": "stdout",
     "output_type": "stream",
     "text": [
      "B1 Ballard\n",
      "E1 Capitol Hill\n",
      "G1 First Hill\n",
      "K1 Downtown Commercial Core\n",
      "K3 Pioneer Square/International District\n",
      "M3 Downtown Commercial Core\n",
      "O1 Duwamish/SODO\n",
      "Q1 Magnolia \n",
      "Q2 Queen Anne\n",
      "U2 University District\n"
     ]
    }
   ],
   "source": [
    "# Beats that are specifically contained within one Neighborhood\n",
    "# This reduces number of unknown locations from 8% to 6%\n",
    "dictionary = {\n",
    "    'B1': 'Ballard',\n",
    "    'E1': 'Capitol Hill',\n",
    "    'G1': 'First Hill',\n",
    "    'K1': 'Downtown Commercial Core',\n",
    "    'K3': 'Pioneer Square/International District',\n",
    "    'M3': 'Downtown Commercial Core',\n",
    "    'O1': 'Duwamish/SODO',\n",
    "    'Q1': 'Magnolia',\n",
    "    'Q2': 'Queen Anne',\n",
    "    'U2': 'University District',\n",
    "}\n",
    "\n",
    "for k, v in dictionary.items():\n",
    "    print(k, v)\n",
    "    df.loc[(df.Beat == k) & (df.GEN_ALIAS.isna()), 'GEN_ALIAS'] = v"
   ]
  },
  {
   "cell_type": "code",
   "execution_count": 26,
   "id": "75fea70f",
   "metadata": {},
   "outputs": [],
   "source": [
    "df.to_csv('20241116-Seattle-new-neighborhoods.csv')\n",
    "# file is used in 2_agg_metrics.ipynb"
   ]
  },
  {
   "cell_type": "code",
   "execution_count": 27,
   "id": "512ef61f",
   "metadata": {},
   "outputs": [
    {
     "data": {
      "text/plain": [
       "'done'"
      ]
     },
     "execution_count": 27,
     "metadata": {},
     "output_type": "execute_result"
    }
   ],
   "source": [
    "'done'"
   ]
  },
  {
   "cell_type": "code",
   "execution_count": null,
   "id": "c8189349",
   "metadata": {},
   "outputs": [],
   "source": []
  }
 ],
 "metadata": {
  "kernelspec": {
   "display_name": "Python 3 (ipykernel)",
   "language": "python",
   "name": "python3"
  },
  "language_info": {
   "codemirror_mode": {
    "name": "ipython",
    "version": 3
   },
   "file_extension": ".py",
   "mimetype": "text/x-python",
   "name": "python",
   "nbconvert_exporter": "python",
   "pygments_lexer": "ipython3",
   "version": "3.8.5"
  }
 },
 "nbformat": 4,
 "nbformat_minor": 5
}
